{
  "nbformat": 4,
  "nbformat_minor": 0,
  "metadata": {
    "colab": {
      "name": "TCC_Requisito_BATS.ipynb",
      "provenance": [],
      "include_colab_link": true
    },
    "kernelspec": {
      "name": "python3",
      "display_name": "Python 3"
    },
    "accelerator": "GPU"
  },
  "cells": [
    {
      "cell_type": "markdown",
      "metadata": {
        "id": "view-in-github",
        "colab_type": "text"
      },
      "source": [
        "<a href=\"https://colab.research.google.com/github/Erica-Wong/AnaliseSegurancaPublicaRJ/blob/master/TCC_Requisito_BATS.ipynb\" target=\"_parent\"><img src=\"https://colab.research.google.com/assets/colab-badge.svg\" alt=\"Open In Colab\"/></a>"
      ]
    },
    {
      "cell_type": "code",
      "metadata": {
        "id": "qLVJqvcxoQXq",
        "colab_type": "code",
        "outputId": "9d49aa5c-c145-4444-f16c-a26a100a958c",
        "colab": {
          "base_uri": "https://localhost:8080/",
          "height": 386
        }
      },
      "source": [
        "#!sudo apt-get install libmysqlclient-dev\n",
        "#!sudo apt-get install libmysql++-dev\n",
        "!sudo apt-get install r-cran-rmysql"
      ],
      "execution_count": 1,
      "outputs": [
        {
          "output_type": "stream",
          "text": [
            "Reading package lists... Done\n",
            "Building dependency tree       \n",
            "Reading state information... Done\n",
            "The following NEW packages will be installed:\n",
            "  r-cran-rmysql\n",
            "0 upgraded, 1 newly installed, 0 to remove and 8 not upgraded.\n",
            "Need to get 216 kB of archives.\n",
            "After this operation, 359 kB of additional disk space will be used.\n",
            "Get:1 http://ppa.launchpad.net/marutter/c2d4u3.5/ubuntu bionic/main amd64 r-cran-rmysql amd64 0.10.17-1cran1ppabionic0 [216 kB]\n",
            "Fetched 216 kB in 2s (131 kB/s)\n",
            "debconf: unable to initialize frontend: Dialog\n",
            "debconf: (No usable dialog-like program is installed, so the dialog based frontend cannot be used. at /usr/share/perl5/Debconf/FrontEnd/Dialog.pm line 76, <> line 1.)\n",
            "debconf: falling back to frontend: Readline\n",
            "debconf: unable to initialize frontend: Readline\n",
            "debconf: (This frontend requires a controlling tty.)\n",
            "debconf: falling back to frontend: Teletype\n",
            "dpkg-preconfigure: unable to re-open stdin: \n",
            "Selecting previously unselected package r-cran-rmysql.\n",
            "(Reading database ... 131183 files and directories currently installed.)\n",
            "Preparing to unpack .../r-cran-rmysql_0.10.17-1cran1ppabionic0_amd64.deb ...\n",
            "Unpacking r-cran-rmysql (0.10.17-1cran1ppabionic0) ...\n",
            "Setting up r-cran-rmysql (0.10.17-1cran1ppabionic0) ...\n"
          ],
          "name": "stdout"
        }
      ]
    }
  ]
}